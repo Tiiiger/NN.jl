{
 "cells": [
  {
   "cell_type": "markdown",
   "metadata": {},
   "source": [
    "# MLP on MINST Dataset"
   ]
  },
  {
   "cell_type": "code",
   "execution_count": 1,
   "metadata": {
    "collapsed": false
   },
   "outputs": [
    {
     "name": "stderr",
     "output_type": "stream",
     "text": [
      "INFO: Updating METADATA...\n",
      "INFO: Updating cache of PDMats...\n",
      "INFO: Computing changes...\n",
      "INFO: Upgrading Conda: v0.3.2 => v0.4.0\n",
      "INFO: Upgrading PDMats: v0.5.0 => v0.5.1\n",
      "INFO: Building Conda\n",
      "INFO: Nothing to be done\n"
     ]
    }
   ],
   "source": [
    "Pkg.update()\n",
    "Pkg.add(\"MNIST\")\n",
    "using PyPlot"
   ]
  },
  {
   "cell_type": "code",
   "execution_count": 33,
   "metadata": {
    "collapsed": false
   },
   "outputs": [
    {
     "name": "stdout",
     "output_type": "stream",
     "text": [
      "(5000,784)(5000,1)\n"
     ]
    },
    {
     "name": "stderr",
     "output_type": "stream",
     "text": [
      "WARNING: Method definition mnistData() in module Main at In[27]:3 overwritten at In[33]:3.\n"
     ]
    },
    {
     "data": {
      "text/plain": [
       "(5000,784)"
      ]
     },
     "execution_count": 33,
     "metadata": {},
     "output_type": "execute_result"
    }
   ],
   "source": [
    "using MNIST\n",
    "function mnistData()\n",
    "    features = trainfeatures(1)\n",
    "    label = trainlabel(1)\n",
    "\n",
    "    trainX, trainY = traindata()\n",
    "    N = size(trainX)[2]\n",
    "    idx = randperm(N)\n",
    "    trainX = trainX[:, idx]'\n",
    "    trainY = trainY[idx]\n",
    "\n",
    "    testX, testY = testdata()\n",
    "    N = size(testX)[1]\n",
    "    idx = randperm(N)\n",
    "    testX = testX[:, idx]'\n",
    "    testY = testY[idx]\n",
    "\n",
    "    ttl = 5000\n",
    "    trX, trY = trainX[1:ttl,:], trainY[1:ttl,:]\n",
    "\n",
    "    @assert size(trX)[1] == size(trY)[1]\n",
    "    println(size(trX), size(trY))\n",
    "\n",
    "    trX = trX / 256. \n",
    "    return trX, trY\n",
    "end\n",
    "trainX, trainY = mnistData()\n"
   ]
  },
  {
   "cell_type": "code",
   "execution_count": 44,
   "metadata": {
    "collapsed": false
   },
   "outputs": [
    {
     "name": "stdout",
     "output_type": "stream",
     "text": [
      "([2.40761,1.31818],[2,1])\n",
      "[0.244728 -0.909969 0.665241; 0.00490169 0.727475 -0.732377]\n"
     ]
    },
    {
     "name": "stderr",
     "output_type": "stream",
     "text": [
      "WARNING: Method definition (::Type{Main.CrossEntropyLoss})() in module Main at /Users/jennyw/Desktop/other/JLNN/layers/CrossEntropy.jl:8 overwritten at /Users/jennyw/Desktop/other/JLNN/layers/CrossEntropy.jl:8.\n",
      "WARNING: Method definition forward(Main.CrossEntropyLoss, Array{Float64, 2}, Array{Float64, 2}) in module Main at /Users/jennyw/Desktop/other/JLNN/layers/CrossEntropy.jl:13 overwritten at /Users/jennyw/Desktop/other/JLNN/layers/CrossEntropy.jl:13.\n",
      "WARNING: Method definition #forward(Array{Any, 1}, Main.#forward, Main.CrossEntropyLoss, Array{Float64, 2}, Array{Float64, 2}) in module Main overwritten.\n",
      "WARNING: Method definition backward(Main.CrossEntropyLoss, Array{Float64, 2}) in module Main at /Users/jennyw/Desktop/other/JLNN/layers/CrossEntropy.jl:30 overwritten at /Users/jennyw/Desktop/other/JLNN/layers/CrossEntropy.jl:30.\n",
      "WARNING: Method definition #backward(Array{Any, 1}, Main.#backward, Main.CrossEntropyLoss, Array{Float64, 2}) in module Main overwritten.\n"
     ]
    },
    {
     "name": "stdout",
     "output_type": "stream",
     "text": [
      "Diff: [0.0; 0.0; 2.0; 5.0]\n",
      "(\n",
      "[14.5],\n",
      "\n",
      "[-1; 1; 1; 1])\n",
      "dldy:[0.0; 0.0; 2.0; 5.0]\n",
      "[0.0; 0.0; 2.0; 5.0]\n"
     ]
    },
    {
     "name": "stderr",
     "output_type": "stream",
     "text": [
      "WARNING: Method definition (::Type{Main.SquareLossLayer})() in module Main at /Users/jennyw/Desktop/other/JLNN/layers/SquareLossLayer.jl:7 overwritten at /Users/jennyw/Desktop/other/JLNN/layers/SquareLossLayer.jl:7.\n",
      "WARNING: Method definition forward(Main.SquareLossLayer, Array{Float64, N<:Any}, Array{Float64, N<:Any}) in module Main at /Users/jennyw/Desktop/other/JLNN/layers/SquareLossLayer.jl:14 overwritten at /Users/jennyw/Desktop/other/JLNN/layers/SquareLossLayer.jl:14.\n",
      "WARNING: Method definition #forward(Array{Any, 1}, Main.#forward, Main.SquareLossLayer, Array{Float64, N<:Any}, Array{Float64, N<:Any}) in module Main overwritten.\n",
      "WARNING: Method definition backward(Main.SquareLossLayer, Array{Float64, N<:Any}) in module Main at /Users/jennyw/Desktop/other/JLNN/layers/SquareLossLayer.jl:40 overwritten at /Users/jennyw/Desktop/other/JLNN/layers/SquareLossLayer.jl:40.\n",
      "WARNING: Method definition #backward(Array{Any, 1}, Main.#backward, Main.SquareLossLayer, Array{Float64, N<:Any}) in module Main overwritten.\n"
     ]
    },
    {
     "name": "stdout",
     "output_type": "stream",
     "text": [
      "FCLayer(2,[1.00211 1.43892 -6.17671; -2.57508 -3.7613 -0.637501; 0.0 0.0 0.0],[0.0,0.0],[0.0,0.0,0.0],[0.0,0.0,0.0],[0.0 0.0 0.0; 0.0 0.0 0.0; 0.0 0.0 0.0])\n",
      "[3.0 22.0 21.0; 7.0 46.0 45.0]\n",
      "[56.0 110.0; 74.0 144.0]\n",
      "[26.0 30.0 34.0; 38.0 44.0 50.0; 12.0 14.0 16.0]\n"
     ]
    },
    {
     "name": "stderr",
     "output_type": "stream",
     "text": [
      "WARNING: Method definition (::Type{Main.FCLayer})(Any, Any) in module Main at /Users/jennyw/Desktop/other/JLNN/layers/FCLayer.jl:14 overwritten at /Users/jennyw/Desktop/other/JLNN/layers/FCLayer.jl:14.\n",
      "WARNING: Method definition Type(Array{Any, 1}, Type{Main.FCLayer}, Any, Any) in module Main overwritten.\n",
      "WARNING: Method definition forward(Main.FCLayer, Array{Float64, 2}) in module Main at /Users/jennyw/Desktop/other/JLNN/layers/FCLayer.jl:34 overwritten at /Users/jennyw/Desktop/other/JLNN/layers/FCLayer.jl:35.\n",
      "WARNING: Method definition #forward(Array{Any, 1}, Main.#forward, Main.FCLayer, Array{Float64, 2}) in module Main overwritten.\n",
      "WARNING: Method definition backward(Main.FCLayer, Array{Float64, 2}) in module Main at /Users/jennyw/Desktop/other/JLNN/layers/FCLayer.jl:44 overwritten at /Users/jennyw/Desktop/other/JLNN/layers/FCLayer.jl:45.\n",
      "WARNING: Method definition #backward(Array{Any, 1}, Main.#backward, Main.FCLayer, Array{Float64, 2}) in module Main overwritten.\n",
      "WARNING: Method definition gradient(Main.FCLayer) in module Main at /Users/jennyw/Desktop/other/JLNN/layers/FCLayer.jl:50 overwritten at /Users/jennyw/Desktop/other/JLNN/layers/FCLayer.jl:51.\n",
      "WARNING: Method definition getParam(Main.FCLayer) in module Main at /Users/jennyw/Desktop/other/JLNN/layers/FCLayer.jl:57 overwritten at /Users/jennyw/Desktop/other/JLNN/layers/FCLayer.jl:58.\n",
      "WARNING: Method definition setParam!(Main.FCLayer, Array{Float64, N<:Any}) in module Main at /Users/jennyw/Desktop/other/JLNN/layers/FCLayer.jl:61 overwritten at /Users/jennyw/Desktop/other/JLNN/layers/FCLayer.jl:62.\n",
      "WARNING: Method definition getLDiff(Main.FCLayer) in module Main at /Users/jennyw/Desktop/other/JLNN/layers/FCLayer.jl:70 overwritten at /Users/jennyw/Desktop/other/JLNN/layers/FCLayer.jl:71.\n"
     ]
    },
    {
     "name": "stdout",
     "output_type": "stream",
     "text": [
      "[1.0 2.0; 0.0 3.0; 1.0 0.0; 0.0 0.0]\n",
      "[2.0 3.0; 0.0 5.0; 3.0 0.0; 0.0 0.0]\n"
     ]
    },
    {
     "name": "stderr",
     "output_type": "stream",
     "text": [
      "WARNING: Method definition (::Type{Main.DropoutLayer})(Float64) in module Main at /Users/jennyw/Desktop/other/JLNN/layers/DropoutLayer.jl:11 overwritten at /Users/jennyw/Desktop/other/JLNN/layers/DropoutLayer.jl:11.\n",
      "WARNING: Method definition forward(Main.DropoutLayer, Array{Float64, 2}) in module Main at /Users/jennyw/Desktop/other/JLNN/layers/DropoutLayer.jl:16 overwritten at /Users/jennyw/Desktop/other/JLNN/layers/DropoutLayer.jl:16.\n",
      "WARNING: Method definition #forward(Array{Any, 1}, Main.#forward, Main.DropoutLayer, Array{Float64, 2}) in module Main overwritten.\n",
      "WARNING: Method definition backward(Main.DropoutLayer, Array{Float64, N<:Any}) in module Main at /Users/jennyw/Desktop/other/JLNN/layers/DropoutLayer.jl:32 overwritten at /Users/jennyw/Desktop/other/JLNN/layers/DropoutLayer.jl:32.\n",
      "WARNING: Method definition #backward(Array{Any, 1}, Main.#backward, Main.DropoutLayer, Array{Float64, N<:Any}) in module Main overwritten.\n",
      "WARNING: Method definition gradient(Main.DropoutLayer) in module Main at /Users/jennyw/Desktop/other/JLNN/layers/DropoutLayer.jl:39 overwritten at /Users/jennyw/Desktop/other/JLNN/layers/DropoutLayer.jl:39.\n",
      "WARNING: Method definition getParam(Main.DropoutLayer) in module Main at /Users/jennyw/Desktop/other/JLNN/layers/DropoutLayer.jl:43 overwritten at /Users/jennyw/Desktop/other/JLNN/layers/DropoutLayer.jl:43.\n",
      "WARNING: Method definition setParam!(Main.DropoutLayer, Any) in module Main at /Users/jennyw/Desktop/other/JLNN/layers/DropoutLayer.jl:47 overwritten at /Users/jennyw/Desktop/other/JLNN/layers/DropoutLayer.jl:47.\n",
      "WARNING: Method definition getLDiff(Main.DropoutLayer) in module Main at /Users/jennyw/Desktop/other/JLNN/layers/DropoutLayer.jl:51 overwritten at /Users/jennyw/Desktop/other/JLNN/layers/DropoutLayer.jl:51.\n",
      "WARNING: Method definition (::Type{Main.ReLu})() in module Main at /Users/jennyw/Desktop/other/JLNN/layers/ReLu.jl:12 overwritten at /Users/jennyw/Desktop/other/JLNN/layers/ReLu.jl:12.\n",
      "WARNING: Method definition (::Type{Main.ReLu})(Float64) in module Main at /Users/jennyw/Desktop/other/JLNN/layers/ReLu.jl:12 overwritten at /Users/jennyw/Desktop/other/JLNN/layers/ReLu.jl:12.\n",
      "WARNING: Method definition forward(Main.ReLu, Array{Float64, N<:Any}) in module Main at /Users/jennyw/Desktop/other/JLNN/layers/ReLu.jl:18 overwritten at /Users/jennyw/Desktop/other/JLNN/layers/ReLu.jl:18.\n",
      "WARNING: Method definition #forward(Array{Any, 1}, Main.#forward, Main.ReLu, Array{Float64, N<:Any}) in module Main overwritten.\n",
      "WARNING: Method definition backward(Main.ReLu, Array{Float64, N<:Any}) in module Main at /Users/jennyw/Desktop/other/JLNN/layers/ReLu.jl:24 overwritten at /Users/jennyw/Desktop/other/JLNN/layers/ReLu.jl:24.\n",
      "WARNING: Method definition #backward(Array{Any, 1}, Main.#backward, Main.ReLu, Array{Float64, N<:Any}) in module Main overwritten.\n",
      "WARNING: Method definition gradient(Main.ReLu) in module Main at /Users/jennyw/Desktop/other/JLNN/layers/ReLu.jl:30 overwritten at /Users/jennyw/Desktop/other/JLNN/layers/ReLu.jl:30.\n",
      "WARNING: Method definition getParam(Main.ReLu) in module Main at /Users/jennyw/Desktop/other/JLNN/layers/ReLu.jl:34 overwritten at /Users/jennyw/Desktop/other/JLNN/layers/ReLu.jl:34.\n",
      "WARNING: Method definition setParam!(Main.ReLu, Any) in module Main at /Users/jennyw/Desktop/other/JLNN/layers/ReLu.jl:38 overwritten at /Users/jennyw/Desktop/other/JLNN/layers/ReLu.jl:38.\n",
      "WARNING: Method definition getLDiff(Main.ReLu) in module Main at /Users/jennyw/Desktop/other/JLNN/layers/ReLu.jl:42 overwritten at /Users/jennyw/Desktop/other/JLNN/layers/ReLu.jl:42.\n"
     ]
    },
    {
     "name": "stdout",
     "output_type": "stream",
     "text": [
      "[0.761594 0.964028; -0.761594 0.995055; 0.761594 -0.964028; -0.995055 -0.995055]\n",
      "[0.839949 0.211952; 0.839949 0.0493302; 1.25992 0.423905; 0.0197321 0.0197321]\n"
     ]
    },
    {
     "name": "stderr",
     "output_type": "stream",
     "text": [
      "WARNING: Method definition (::Type{Main.Tanh})() in module Main at /Users/jennyw/Desktop/other/JLNN/layers/Tanh.jl:9 overwritten at /Users/jennyw/Desktop/other/JLNN/layers/Tanh.jl:9.\n",
      "WARNING: Method definition forward(Main.Tanh, Array{Float64, N<:Any}) in module Main at /Users/jennyw/Desktop/other/JLNN/layers/Tanh.jl:14 overwritten at /Users/jennyw/Desktop/other/JLNN/layers/Tanh.jl:14.\n",
      "WARNING: Method definition #forward(Array{Any, 1}, Main.#forward, Main.Tanh, Array{Float64, N<:Any}) in module Main overwritten.\n",
      "WARNING: Method definition backward(Main.Tanh, Array{Float64, N<:Any}) in module Main at /Users/jennyw/Desktop/other/JLNN/layers/Tanh.jl:20 overwritten at /Users/jennyw/Desktop/other/JLNN/layers/Tanh.jl:20.\n",
      "WARNING: Method definition #backward(Array{Any, 1}, Main.#backward, Main.Tanh, Array{Float64, N<:Any}) in module Main overwritten.\n",
      "WARNING: Method definition gradient(Main.Tanh) in module Main at /Users/jennyw/Desktop/other/JLNN/layers/Tanh.jl:26 overwritten at /Users/jennyw/Desktop/other/JLNN/layers/Tanh.jl:26.\n",
      "WARNING: Method definition getParam(Main.Tanh) in module Main at /Users/jennyw/Desktop/other/JLNN/layers/Tanh.jl:30 overwritten at /Users/jennyw/Desktop/other/JLNN/layers/Tanh.jl:30.\n",
      "WARNING: Method definition setParam!(Main.Tanh, Any) in module Main at /Users/jennyw/Desktop/other/JLNN/layers/Tanh.jl:34 overwritten at /Users/jennyw/Desktop/other/JLNN/layers/Tanh.jl:34.\n",
      "WARNING: Method definition getLDiff(Main.Tanh) in module Main at /Users/jennyw/Desktop/other/JLNN/layers/Tanh.jl:38 overwritten at /Users/jennyw/Desktop/other/JLNN/layers/Tanh.jl:38.\n",
      "WARNING: Method definition (::Type{Main.SequentialNet})(Array{Main.Layer, N<:Any}, Main.LossCriteria) in module Main at /Users/jennyw/Desktop/other/JLNN/layers/SequnetialNet.jl:7 overwritten at /Users/jennyw/Desktop/other/JLNN/layers/SequnetialNet.jl:7.\n",
      "WARNING: Method definition forward(Main.SequentialNet, Array{Float64, N<:Any}, Array) in module Main at /Users/jennyw/Desktop/other/JLNN/layers/SequnetialNet.jl:12 overwritten at /Users/jennyw/Desktop/other/JLNN/layers/SequnetialNet.jl:12.\n",
      "WARNING: Method definition #forward(Array{Any, 1}, Main.#forward, Main.SequentialNet, Array{Float64, N<:Any}, Array) in module Main overwritten.\n",
      "WARNING: Method definition backward(Main.SequentialNet, Any) in module Main at /Users/jennyw/Desktop/other/JLNN/layers/SequnetialNet.jl:22 overwritten at /Users/jennyw/Desktop/other/JLNN/layers/SequnetialNet.jl:22.\n"
     ]
    },
    {
     "data": {
      "text/plain": [
       "backward (generic function with 7 methods)"
      ]
     },
     "execution_count": 44,
     "metadata": {},
     "output_type": "execute_result"
    }
   ],
   "source": [
    "include(\"layers/CrossEntropy.jl\")\n",
    "include(\"layers/SquareLossLayer.jl\")\n",
    "include(\"layers/FCLayer.jl\")\n",
    "include(\"layers/DropoutLayer.jl\")\n",
    "include(\"layers/ReLu.jl\")\n",
    "include(\"layers/Tanh.jl\")\n",
    "include(\"layers/SequnetialNet.jl\")"
   ]
  },
  {
   "cell_type": "code",
   "execution_count": 9,
   "metadata": {
    "collapsed": false
   },
   "outputs": [
    {
     "data": {
      "text/plain": [
       "31"
      ]
     },
     "execution_count": 9,
     "metadata": {},
     "output_type": "execute_result"
    }
   ],
   "source": [
    "size(trainX), size(trainY)\n",
    "i = convert(Int, ceil(rand() * size(trainX)[1]))"
   ]
  },
  {
   "cell_type": "code",
   "execution_count": 22,
   "metadata": {
    "collapsed": false
   },
   "outputs": [
    {
     "data": {
      "image/png": "[encoded data removed]",
      "text/plain": [
       "PyPlot.Figure(PyObject <matplotlib.figure.Figure object at 0x3266a04d0>)"
      ]
     },
     "metadata": {},
     "output_type": "display_data"
    },
    {
     "data": {
      "text/plain": [
       "3.0"
      ]
     },
     "execution_count": 22,
     "metadata": {},
     "output_type": "execute_result"
    }
   ],
   "source": [
    "i = convert(Int, ceil(rand() * size(trainX)[1]))\n",
    "x =reshape(trainX[i,:], 28,28) ./ 256\n",
    "imshow(x)\n",
    "\n"
   ]
  },
  {
   "cell_type": "code",
   "execution_count": 40,
   "metadata": {
    "collapsed": false
   },
   "outputs": [
    {
     "name": "stderr",
     "output_type": "stream",
     "text": [
      "WARNING: Method definition train(Main.SequentialNet, Any, Any) in module Main at In[39]:2 overwritten at In[40]:2.\n",
      "WARNING: Method definition #train(Array{Any, 1}, Main.#train, Main.SequentialNet, Any, Any) in module Main overwritten.\n"
     ]
    },
    {
     "data": {
      "text/plain": [
       "train (generic function with 1 method)"
      ]
     },
     "execution_count": 40,
     "metadata": {},
     "output_type": "execute_result"
    }
   ],
   "source": [
    "function train(net::SequentialNet, X, Y; batch_size::Int64 = 64, ttl_epo::Int64 = 10, lrSchedule = (x -> 0.01), alpha::Float64 = 0.9, verbose=0)\n",
    "    local N = size(Y)[1]\n",
    "    local batch=0\n",
    "    local epo_losses = []\n",
    "    local epo_accus = []\n",
    "    for epo = 1:ttl_epo\n",
    "        local num_batch = ceil(N/batch_size)\n",
    "        println(\"Epo $(epo) num batches : $(num_batch)\")\n",
    "        all_losses = []\n",
    "        epo_cor = 0\n",
    "        for bid = 0:(num_batch-1)\n",
    "            batch += 1\n",
    "            local sidx::Int = convert(Int64, bid*batch_size+1)\n",
    "            local eidx::Int = convert(Int64, min(N, (bid+1)*batch_size))\n",
    "            local batch_X = X[sidx:eidx,:]\n",
    "            local batch_Y = Y[sidx:eidx,:]\n",
    "            loss, _ = forward(net, batch_X, batch_Y)\n",
    "            backward(net, batch_Y)\n",
    "            append!(all_losses, mean(loss))\n",
    "            for i = 1:length(net.layers)\n",
    "                local layer = net.layers[i]\n",
    "                local gradi = lrSchedule(epo) * gradient(layer) / batch_size\n",
    "                local veloc = getLDiff(layer) * alpha - gradi\n",
    "                local theta = getParam(layer) + alpha * veloc - gradi\n",
    "                if verbose > 1\n",
    "                    print(\"Layer $(i)\")\n",
    "                    print(\"\\tGradient: $(sum(abs(theta - getLDiff(layer))))\")\n",
    "                    if verbose > 1\n",
    "                        print(\"\\tLastloss: $(sum(abs(layer.last_loss)))\")\n",
    "                    end\n",
    "                    println()\n",
    "                end\n",
    "                setParam!(layer, theta)\n",
    "            end\n",
    "\n",
    "            _, pred = forward(net, batch_X, batch_Y; deterministics = true)\n",
    "            epo_cor  += length(filter(e ->  abs(e) < 1e-5, pred - batch_Y))\n",
    "            local acc = length(filter(e -> abs(e) < 1e-5, pred - batch_Y)) / batch_size\n",
    "\n",
    "            if verbose > 0\n",
    "                println(\"[$(bid)/$(num_batch)]Loss is: $(loss)\\tAccuracy:$(acc)\")\n",
    "            end\n",
    "        end\n",
    "        local epo_loss = mean(all_losses)\n",
    "        local epo_accu = epo_cor / N\n",
    "        append!(epo_losses, epo_loss)\n",
    "        append!(epo_accus, epo_accu)\n",
    "        println(\"Epo $(epo) has loss :$(epo_loss)\\t\\taccuracy : $(epo_accu)\")\n",
    "    end\n",
    "    return (epo_losses,epo_accu)\n",
    "end"
   ]
  },
  {
   "cell_type": "code",
   "execution_count": 36,
   "metadata": {
    "collapsed": false
   },
   "outputs": [
    {
     "name": "stderr",
     "output_type": "stream",
     "text": [
      "WARNING: Method definition build_mlp_without_dropout() in module Main at In[25]:3 overwritten at In[36]:3.\n"
     ]
    },
    {
     "data": {
      "text/plain": [
       "build_mlp_without_dropout (generic function with 1 method)"
      ]
     },
     "execution_count": 36,
     "metadata": {},
     "output_type": "execute_result"
    }
   ],
   "source": [
    "\n",
    "function build_mlp_without_dropout()\n",
    "    layers = [\n",
    "        FCLayer(784, 800),\n",
    "        ReLu(),\n",
    "        FCLayer(800, 10)\n",
    "    ]\n",
    "    criteria = CrossEntropyLoss()\n",
    "    net = SequentialNet(layers, criteria)\n",
    "    return net\n",
    "end\n"
   ]
  },
  {
   "cell_type": "code",
   "execution_count": 34,
   "metadata": {
    "collapsed": false
   },
   "outputs": [
    {
     "data": {
      "text/plain": [
       "(5000,784)"
      ]
     },
     "execution_count": 34,
     "metadata": {},
     "output_type": "execute_result"
    }
   ],
   "source": [
    "size(trainX)"
   ]
  },
  {
   "cell_type": "code",
   "execution_count": 49,
   "metadata": {
    "collapsed": false,
    "scrolled": false
   },
   "outputs": [
    {
     "name": "stdout",
     "output_type": "stream",
     "text": [
      "Epo 1 num batches : 500.0\n",
      "Epo 1 has loss :1.9710906630398939\t\taccuracy : 0.1984\n",
      "Epo 2 num batches : 500.0\n",
      "Epo 2 has loss :1.7576747869233436\t\taccuracy : 0.2286\n",
      "Epo 3 num batches : 500.0\n",
      "Epo 3 has loss :1.5158325576721787\t\taccuracy : 0.2192\n",
      "Epo 4 num batches : 500.0\n",
      "Epo 4 has loss :1.489937909607065\t\taccuracy : 0.2442\n",
      "Epo 5 num batches : 500.0\n",
      "Epo 5 has loss :1.4685077159976399\t\taccuracy : 0.2428\n",
      "Epo 6 num batches : 500.0\n",
      "Epo 6 has loss :1.472260833932817\t\taccuracy : 0.2328\n",
      "Epo 7 num batches : 500.0\n",
      "Epo 7 has loss :1.4014105587608432\t\taccuracy : 0.2366\n",
      "Epo 8 num batches : 500.0\n",
      "Epo 8 has loss :1.4378701007036\t\taccuracy : 0.2328\n",
      "Epo 9 num batches : 500.0\n",
      "Epo 9 has loss :1.5203730186720024\t\taccuracy : 0.2372\n",
      "Epo 10 num batches : 500.0\n",
      "Epo 10 has loss :1.4586925137822475\t\taccuracy : 0.2536\n",
      "Epo 11 num batches : 500.0\n",
      "Epo 11 has loss :1.2616428206273056\t\taccuracy : 0.2516\n",
      "Epo 12 num batches : 500.0\n",
      "Epo 12 has loss :1.1113216942416955\t\taccuracy : 0.2556\n",
      "Epo 13 num batches : 500.0\n",
      "Epo 13 has loss :1.0890622809764972\t\taccuracy : 0.2514\n",
      "Epo 14 num batches : 500.0\n",
      "Epo 14 has loss :1.0658656926419696\t\taccuracy : 0.2526\n",
      "Epo 15 num batches : 500.0\n"
     ]
    },
    {
     "ename": "LoadError",
     "evalue": "LoadError: InterruptException:\nwhile loading In[49], in expression starting on line 3",
     "output_type": "error",
     "traceback": [
      "LoadError: InterruptException:\nwhile loading In[49], in expression starting on line 3",
      "",
      " in _elementwise(::Base.#-, ::Type{Float64}, ::Array{Float64,2}, ::Array{Float64,2}) at ./arraymath.jl:57",
      " in -(::Array{Float64,2}, ::Array{Float64,2}) at ./arraymath.jl:49",
      " in #train#98(::Int64, ::Int64, ::##150#151, ::Float64, ::Int64, ::Function, ::SequentialNet, ::Array{Float64,2}, ::Array{Float64,2}) at ./In[40]:23",
      " in (::#kw##train)(::Array{Any,1}, ::#train, ::SequentialNet, ::Array{Float64,2}, ::Array{Float64,2}) at ./<missing>:0"
     ]
    }
   ],
   "source": [
    "net = build_mlp_without_dropout()\n",
    "\n",
    "losses,accus = train(net, trainX, trainY, ttl_epo = 100; batch_size = 10,\n",
    "               lrSchedule = x -> 0.05, verbose=0, alpha=0.9)\n",
    "subplot(121)\n",
    "plot(1:length(losses), losses)\n",
    "title(\"Epoch Losses\")\n",
    "\n",
    "subplot(122)\n",
    "plot(1:length(accus), accus)\n",
    "title(\"Epoch Accuracy\")\n",
    "show()\n"
   ]
  },
  {
   "cell_type": "code",
   "execution_count": null,
   "metadata": {
    "collapsed": true
   },
   "outputs": [],
   "source": []
  }
 ],
 "metadata": {
  "kernelspec": {
   "display_name": "Julia 0.5.0",
   "language": "julia",
   "name": "julia-0.5"
  },
  "language_info": {
   "file_extension": ".jl",
   "mimetype": "application/julia",
   "name": "julia",
   "version": "0.5.0"
  }
 },
 "nbformat": 4,
 "nbformat_minor": 1
}
